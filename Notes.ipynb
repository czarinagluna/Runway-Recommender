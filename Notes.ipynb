{
 "cells": [
  {
   "cell_type": "raw",
   "metadata": {},
   "source": [
    "Two things: USERS and ITEMS\n",
    "\n",
    "1 USERS (users df)\n",
    "- ratings count\n",
    "- ratings average (useful?)\n",
    "- most frequent words (nlp later?)\n",
    "- rented for list (and top?)\n",
    "- categories list (and top?)\n",
    "- bust size\n",
    "- weight\n",
    "- body type\n",
    "- height\n",
    "- size\n",
    "- age\n",
    "- minimum review date\n",
    "- maximum review date\n",
    "- review length average\n",
    "- most frequent review_month\n",
    "- top review_season\n",
    "\n",
    "2 ITEMS (item df)\n",
    "- fit count per class\n",
    "- user, ratings count\n",
    "- ratings average\n",
    "- most frequent words (nlp later?)\n",
    "- rented for list (and top?)\n",
    "- categories list (and top?) \n",
    "- bust size range (and mode?)\n",
    "- weight range (and median?)\n",
    "- height range (and median?)\n",
    "- size range (and median?)\n",
    "- age range (and median?)\n",
    "- minimum review date\n",
    "- maximum review date\n",
    "- review length average\n",
    "- top review_season\n",
    "\n",
    "Side by side univariate, bivariate, and multivariate analysis:\n",
    "- fit distribution, fit and ratings\n",
    "- bust size distribution, fit and bust size\n",
    "- weight distribution, fit and weight\n",
    "- rating distribution, \n",
    "- ...\n",
    "\n",
    "Separate time series:"
   ]
  },
  {
   "cell_type": "markdown",
   "metadata": {},
   "source": [
    "* [3.4 Predictive Modeling](#Model)"
   ]
  }
 ],
 "metadata": {
  "kernelspec": {
   "display_name": "Python (learn-env)",
   "language": "python",
   "name": "learn-env"
  },
  "language_info": {
   "codemirror_mode": {
    "name": "ipython",
    "version": 3
   },
   "file_extension": ".py",
   "mimetype": "text/x-python",
   "name": "python",
   "nbconvert_exporter": "python",
   "pygments_lexer": "ipython3",
   "version": "3.8.5"
  },
  "varInspector": {
   "cols": {
    "lenName": 16,
    "lenType": 16,
    "lenVar": 40
   },
   "kernels_config": {
    "python": {
     "delete_cmd_postfix": "",
     "delete_cmd_prefix": "del ",
     "library": "var_list.py",
     "varRefreshCmd": "print(var_dic_list())"
    },
    "r": {
     "delete_cmd_postfix": ") ",
     "delete_cmd_prefix": "rm(",
     "library": "var_list.r",
     "varRefreshCmd": "cat(var_dic_list()) "
    }
   },
   "types_to_exclude": [
    "module",
    "function",
    "builtin_function_or_method",
    "instance",
    "_Feature"
   ],
   "window_display": false
  }
 },
 "nbformat": 4,
 "nbformat_minor": 4
}
