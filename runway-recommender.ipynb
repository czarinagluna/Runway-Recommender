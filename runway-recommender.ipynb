{
 "cells": [
  {
   "cell_type": "markdown",
   "metadata": {},
   "source": [
    "<center><h1>Recommender System for Rent the Runway</h1></center><br>\n",
    "<center>Author: Czarina G Luna</center> "
   ]
  },
  {
   "cell_type": "markdown",
   "metadata": {},
   "source": [
    "![image](header.png)"
   ]
  },
  {
   "cell_type": "markdown",
   "metadata": {},
   "source": [
    "## Contents <a class='anchor' id='Content'></a>\n",
    "* [Summary](#Summary)\n",
    "* [1 Business Understanding](#Business)\n",
    "* [2 Data Understanding](#Data)\n",
    "    * [2.1 Data Pre-processing](#Data-prep)\n",
    "    * [2.2 Data Visualization](#Data-vis)\n",
    "    * [2.3 Natural Language Processing](#NLP)\n",
    "* [3 Data Methodology](#Data-meth)\n",
    "    * [3.1 Popularity Recommendation](#Method-1)\n",
    "    * [3.2 Content-Based Recommendation](#Method-2)\n",
    "    * [3.3 Collaborative Filtering Recommendation](#Method-3)\n",
    "* [4 Results and Recommendations](#Result)\n",
    "* [5 Next Steps](#Next)\n",
    "* [Contact](#Contact)"
   ]
  },
  {
   "cell_type": "markdown",
   "metadata": {},
   "source": [
    "## SUMMARY <a class='anchor' id='Overview'></a>\n",
    "    Business problem. Data and methods. Final recommender system. Test results. Business recommendations."
   ]
  },
  {
   "cell_type": "markdown",
   "metadata": {},
   "source": [
    "[Contents](#Content)"
   ]
  },
  {
   "cell_type": "markdown",
   "metadata": {},
   "source": [
    "## 1 Business Understanding <a class='anchor' id='Business'></a>"
   ]
  },
  {
   "cell_type": "markdown",
   "metadata": {},
   "source": [
    "## 2 Data Understanding <a class='anchor' id='Data'></a>"
   ]
  },
  {
   "cell_type": "code",
   "execution_count": 1,
   "metadata": {
    "scrolled": true
   },
   "outputs": [
    {
     "data": {
      "text/html": [
       "<div>\n",
       "<style scoped>\n",
       "    .dataframe tbody tr th:only-of-type {\n",
       "        vertical-align: middle;\n",
       "    }\n",
       "\n",
       "    .dataframe tbody tr th {\n",
       "        vertical-align: top;\n",
       "    }\n",
       "\n",
       "    .dataframe thead th {\n",
       "        text-align: right;\n",
       "    }\n",
       "</style>\n",
       "<table border=\"1\" class=\"dataframe\">\n",
       "  <thead>\n",
       "    <tr style=\"text-align: right;\">\n",
       "      <th></th>\n",
       "      <th>fit</th>\n",
       "      <th>user_id</th>\n",
       "      <th>bust size</th>\n",
       "      <th>item_id</th>\n",
       "      <th>weight</th>\n",
       "      <th>rating</th>\n",
       "      <th>rented for</th>\n",
       "      <th>review_text</th>\n",
       "      <th>body type</th>\n",
       "      <th>review_summary</th>\n",
       "      <th>category</th>\n",
       "      <th>height</th>\n",
       "      <th>size</th>\n",
       "      <th>age</th>\n",
       "      <th>review_date</th>\n",
       "    </tr>\n",
       "  </thead>\n",
       "  <tbody>\n",
       "    <tr>\n",
       "      <th>0</th>\n",
       "      <td>fit</td>\n",
       "      <td>420272</td>\n",
       "      <td>34d</td>\n",
       "      <td>2260466</td>\n",
       "      <td>137lbs</td>\n",
       "      <td>10.0</td>\n",
       "      <td>vacation</td>\n",
       "      <td>An adorable romper! Belt and zipper were a lit...</td>\n",
       "      <td>hourglass</td>\n",
       "      <td>So many compliments!</td>\n",
       "      <td>romper</td>\n",
       "      <td>5' 8\"</td>\n",
       "      <td>14</td>\n",
       "      <td>28.0</td>\n",
       "      <td>April 20, 2016</td>\n",
       "    </tr>\n",
       "    <tr>\n",
       "      <th>1</th>\n",
       "      <td>fit</td>\n",
       "      <td>273551</td>\n",
       "      <td>34b</td>\n",
       "      <td>153475</td>\n",
       "      <td>132lbs</td>\n",
       "      <td>10.0</td>\n",
       "      <td>other</td>\n",
       "      <td>I rented this dress for a photo shoot. The the...</td>\n",
       "      <td>straight &amp; narrow</td>\n",
       "      <td>I felt so glamourous!!!</td>\n",
       "      <td>gown</td>\n",
       "      <td>5' 6\"</td>\n",
       "      <td>12</td>\n",
       "      <td>36.0</td>\n",
       "      <td>June 18, 2013</td>\n",
       "    </tr>\n",
       "  </tbody>\n",
       "</table>\n",
       "</div>"
      ],
      "text/plain": [
       "   fit  user_id bust size  item_id  weight  rating rented for  \\\n",
       "0  fit   420272       34d  2260466  137lbs    10.0   vacation   \n",
       "1  fit   273551       34b   153475  132lbs    10.0      other   \n",
       "\n",
       "                                         review_text          body type  \\\n",
       "0  An adorable romper! Belt and zipper were a lit...          hourglass   \n",
       "1  I rented this dress for a photo shoot. The the...  straight & narrow   \n",
       "\n",
       "            review_summary category height  size   age     review_date  \n",
       "0     So many compliments!   romper  5' 8\"    14  28.0  April 20, 2016  \n",
       "1  I felt so glamourous!!!     gown  5' 6\"    12  36.0   June 18, 2013  "
      ]
     },
     "execution_count": 1,
     "metadata": {},
     "output_type": "execute_result"
    }
   ],
   "source": [
    "import pandas as pd\n",
    "RAW_DATA = pd.read_csv('rent_the_runway.csv')\n",
    "RAW_DATA.head(2)"
   ]
  },
  {
   "cell_type": "markdown",
   "metadata": {},
   "source": [
    "## ☒ Create table showing info:"
   ]
  },
  {
   "cell_type": "raw",
   "metadata": {},
   "source": [
    "count_data = RAW_DATA[['review_date', 'user_id', 'item_id']]\n",
    "count_data = count_data.groupby(['review_date', 'user_id']).size().rename('count').reset_index()\n",
    "\n",
    "print(f'Time range of reviews: From {RAW_DATA['review_date'].min():%m-%d-%Y} To {RAW_DATA['review_date'].max():%m-%d-%Y')\n",
    "print(f'Number of unique users: {RAW_DATA['user_id'].nunique()}')\n",
    "print(f'Number of unique items: {RAW_DATA['item_id'].nunique()}')\n",
    "\n",
    "# print(f'Average rent count per day: {int(count_data['count'].mean())}')\n",
    "# print(f'Minimum rent count per day: {count_data['count'].min()}')\n",
    "# print(f'Maximum rent count per day: {count_data['count'].max()}')"
   ]
  },
  {
   "cell_type": "markdown",
   "metadata": {},
   "source": [
    "### 2.1 Data Pre-processing <a class='anchor' id='Data-prep'></a>\n",
    "    Describe pre-processing steps taken"
   ]
  },
  {
   "cell_type": "code",
   "execution_count": 7,
   "metadata": {},
   "outputs": [],
   "source": [
    "import warnings\n",
    "warnings.filterwarnings('ignore')\n",
    "\n",
    "def convert_height(x):\n",
    "    '''\n",
    "    Convert height from string format as feet and inches to integer in inches\n",
    "    '''\n",
    "    height = [int(i) for i in x.replace('\\'', '').replace('\"\", '').split()]\n",
    "    return height[0]*12 + height[1]\n",
    "\n",
    "def preprocess(df):\n",
    "    '''\n",
    "    Parameters:\n",
    "    ----------\n",
    "    Returns: \n",
    "    '''\n",
    "    df.columns = df.columns.str.replace(' ', '_')\n",
    "    df = df.dropna(subset='rating')\n",
    "    \n",
    "    df['weight'] = df['weight'].str.replace('lbs', '')\n",
    "    df['rating'] = df['rating']/2\n",
    "    df['height'] = df['height'].apply(lambda x: convert_height(x) if pd.notnull(x) else x)\n",
    "    \n",
    "    to_num = ['rating', 'weight', 'age']\n",
    "    df[to_num] = df[to_num].apply(pd.to_numeric, errors='coerce')\n",
    "    \n",
    "    for col in ['height', 'age']:\n",
    "        df[col] = df[col].fillna(df[col].median())\n",
    "        \n",
    "    weight_map = dict(df.groupby('height')['weight'].median())\n",
    "    df['weight'] = df['weight'].fillna(df['height'].map(weight_map))\n",
    "    \n",
    "    df['review'] = df['review_summary'] + ' ' + df['review_text']\n",
    "    df['review'] = df['review'].fillna('')\n",
    "    df['review_length'] = df['review_text'].fillna('').apply(lambda x: len(x.split()))\n",
    "        \n",
    "    age_limit = (df['age'] > 60) | (df['age'] < 13)\n",
    "    df['age'] = np.where(age_limit==True, df['age'].median(), df['age'])\n",
    "    \n",
    "    for col in ['bust_size', 'body_type']:\n",
    "        to_map = dict(df.groupby('size')[col].last())\n",
    "        df[col] = df[col].fillna(df['size'].map(to_map))\n",
    "    \n",
    "    df['rented_for'] = df['rented_for'].fillna(df['rented_for'].value_counts().index[0])\n",
    "    \n",
    "    df['review_date'] = pd.to_datetime(df['review_date'])\n",
    "    df['review_month'] = pd.DatetimeIndex(df['review_date']).month\n",
    "    df['review_season'] = pd.cut(df['review_month'].replace(12, 0), [0, 3, 6, 9, 11], include_lowest=True, labels=['Winter', 'Spring', 'Summer', 'Fall'])\n",
    "    df['review_year'] = pd.DatetimeIndex(df['review_date']).year\n",
    "    return df"
   ]
  },
  {
   "cell_type": "raw",
   "metadata": {},
   "source": [
    "data = preprocess(RAW_DATA)\n",
    "data.to_csv('preprocessed_data.csv', index=False)"
   ]
  },
  {
   "cell_type": "markdown",
   "metadata": {},
   "source": [
    "### 2.2 Data Visualization <a class='anchor' id='Data-vis'></a>"
   ]
  },
  {
   "cell_type": "code",
   "execution_count": 38,
   "metadata": {},
   "outputs": [],
   "source": [
    "# import pandas as pd\n",
    "data = pd.read_csv('preprocessed_data.csv')"
   ]
  },
  {
   "cell_type": "markdown",
   "metadata": {},
   "source": [
    "#### 2.2.1 User Research"
   ]
  },
  {
   "cell_type": "code",
   "execution_count": 50,
   "metadata": {},
   "outputs": [],
   "source": [
    "user_data = data.copy()\n",
    "user_data['item_count'] = user_data['item_id'].groupby(user_data['user_id']).transform('count')"
   ]
  },
  {
   "cell_type": "markdown",
   "metadata": {},
   "source": [
    "#### 2.2.2 Product Knowledge"
   ]
  },
  {
   "cell_type": "code",
   "execution_count": 39,
   "metadata": {},
   "outputs": [],
   "source": [
    "item_data = data.copy()\n",
    "item_data['rating_count'] = item_data['rating'].groupby(item_data['item_id']).transform('count')\n",
    "item_data['rating_average'] = item_data['rating'].groupby(item_data['item_id']).transform('mean')"
   ]
  },
  {
   "cell_type": "markdown",
   "metadata": {},
   "source": [
    "#### 2.2.3 Time Series Analysis"
   ]
  },
  {
   "cell_type": "markdown",
   "metadata": {},
   "source": [
    "### 2.3 Natural Language Processing <a class='anchor' id='NLP'></a>"
   ]
  },
  {
   "cell_type": "markdown",
   "metadata": {},
   "source": [
    "## ☒ Add NLP code completed in [Colab notebook](https://colab.research.google.com/drive/1anuQLoYihRipKQqxQ_nCer4mF1RaEsLW?usp=sharing) and also here on [Github notebook](https://github.com/czarinagluna/Capstone-Proposal/blob/main/vader_sentiment_analysis.ipynb)"
   ]
  },
  {
   "cell_type": "markdown",
   "metadata": {},
   "source": [
    "#### 2.3.1 Text Preprocessing"
   ]
  },
  {
   "cell_type": "markdown",
   "metadata": {},
   "source": [
    "#### 2.3.2 Sentiment Analysis"
   ]
  },
  {
   "cell_type": "markdown",
   "metadata": {},
   "source": [
    "#### 2.3.3 Document Clustering"
   ]
  },
  {
   "cell_type": "markdown",
   "metadata": {},
   "source": [
    "## 3 Data Methodology <a class='anchor' id='Data-meth'></a>"
   ]
  },
  {
   "cell_type": "markdown",
   "metadata": {},
   "source": [
    "## ☑︎ Item-item Recommendations with k-Nearest Neighbors"
   ]
  },
  {
   "cell_type": "code",
   "execution_count": 73,
   "metadata": {},
   "outputs": [],
   "source": [
    "user_item_data = user_data.groupby('user_id')['item_count'].first().reset_index()\n",
    "user_multiple_item_data = user_item_data.loc[user_item_data['item_count']>1]\n",
    "\n",
    "df = data.loc[data['user_id'].isin(user_multiple_item_data['user_id'])]"
   ]
  },
  {
   "cell_type": "code",
   "execution_count": 92,
   "metadata": {},
   "outputs": [
    {
     "name": "stdout",
     "output_type": "stream",
     "text": [
      "Number of ratings: 120690\n",
      "Number of unique items: 5789\n",
      "Number of unique users: 33736\n",
      "Average number of ratings per user: 3.58\n",
      "Average number of ratings per item: 20.85\n"
     ]
    }
   ],
   "source": [
    "n_ratings = len(df)\n",
    "n_items = df['item_id'].nunique()\n",
    "n_users = df['user_id'].nunique()\n",
    "\n",
    "print(f'Number of ratings: {n_ratings}')\n",
    "print(f'Number of unique items: {n_items}')\n",
    "print(f'Number of unique users: {n_users}')\n",
    "print(f'Average number of ratings per user: {round(n_ratings/n_users, 2)}')\n",
    "print(f'Average number of ratings per item: {round(n_ratings/n_items, 2)}')"
   ]
  },
  {
   "cell_type": "code",
   "execution_count": 131,
   "metadata": {},
   "outputs": [
    {
     "data": {
      "image/png": "[encoded data removed]",
      "text/plain": [
       "<Figure size 432x288 with 1 Axes>"
      ]
     },
     "metadata": {
      "needs_background": "light"
     },
     "output_type": "display_data"
    }
   ],
   "source": [
    "import matplotlib.pyplot as plt\n",
    "sns.countplot(x='rating', data=df, palette='cubehelix')\n",
    "plt.title('Distribution of item ratings', fontsize=14)\n",
    "plt.show()"
   ]
  },
  {
   "cell_type": "code",
   "execution_count": 95,
   "metadata": {
    "scrolled": true
   },
   "outputs": [
    {
     "name": "stdout",
     "output_type": "stream",
     "text": [
      "Mean global rating: 4.51.\n",
      "Mean rating per user: 4.52.\n"
     ]
    }
   ],
   "source": [
    "print(f'Mean global rating: {round(df['rating'].mean(),2)}.')\n",
    "\n",
    "mean_ratings = df.groupby('user_id')['rating'].mean()\n",
    "print(f'Mean rating per user: {round(mean_ratings.mean(),2)}.')"
   ]
  },
  {
   "cell_type": "code",
   "execution_count": 108,
   "metadata": {},
   "outputs": [],
   "source": [
    "from scipy.sparse import csr_matrix\n",
    "\n",
    "def create_X(df):\n",
    "    '''\n",
    "    Generates a sparse matrix from ratings dataframe.\n",
    "\n",
    "    Args:\n",
    "        df: pandas dataframe containing 3 columns (user_id, item_id, rating)\n",
    "\n",
    "    Returns:\n",
    "        X: sparse matrix\n",
    "        user_mapper: dict that maps user id's to user indices\n",
    "        user_inv_mapper: dict that maps user indices to user id's\n",
    "        item_mapper: dict that maps item id's to item indices\n",
    "        item_inv_mapper: dict that maps item indices to item id's\n",
    "    '''\n",
    "    M = df['user_id'].nunique()\n",
    "    N = df['item_id'].nunique()\n",
    "\n",
    "    user_mapper = dict(zip(np.unique(df['user_id']), list(range(M))))\n",
    "    item_mapper = dict(zip(np.unique(df['item_id']), list(range(N))))\n",
    "\n",
    "    user_inv_mapper = dict(zip(list(range(M)), np.unique(df['user_id'])))\n",
    "    item_inv_mapper = dict(zip(list(range(N)), np.unique(df['item_id'])))\n",
    "\n",
    "    user_index = [user_mapper[i] for i in df['user_id']]\n",
    "    item_index = [item_mapper[i] for i in df['item_id']]\n",
    "\n",
    "    X = csr_matrix((df['rating'], (user_index,item_index)), shape=(M,N))\n",
    "\n",
    "    return X, user_mapper, item_mapper, user_inv_mapper, item_inv_mapper\n",
    "\n",
    "X, user_mapper, item_mapper, user_inv_mapper, item_inv_mapper = create_X(df)"
   ]
  },
  {
   "cell_type": "code",
   "execution_count": 109,
   "metadata": {},
   "outputs": [
    {
     "name": "stdout",
     "output_type": "stream",
     "text": [
      "Matrix sparsity: 0.06%\n"
     ]
    }
   ],
   "source": [
    "n_total = X.shape[0]*X.shape[1]\n",
    "n_ratings = X.nnz\n",
    "sparsity = n_ratings/n_total\n",
    "print(f'Matrix sparsity: {round(sparsity*100,2)}%')"
   ]
  },
  {
   "cell_type": "code",
   "execution_count": 111,
   "metadata": {},
   "outputs": [
    {
     "name": "stdout",
     "output_type": "stream",
     "text": [
      "Most active user rated 407 items.\n",
      "Least active user rated 1 item.\n"
     ]
    }
   ],
   "source": [
    "n_ratings_per_user = X.getnnz(axis=1)\n",
    "\n",
    "print(f'Most active user rated {n_ratings_per_user.max()} items.')\n",
    "print(f'Least active user rated {n_ratings_per_user.min()} item.')"
   ]
  },
  {
   "cell_type": "code",
   "execution_count": 133,
   "metadata": {},
   "outputs": [
    {
     "name": "stdout",
     "output_type": "stream",
     "text": [
      "Most rated item has 873 ratings.\n",
      "Least rated item has 1 ratings.\n"
     ]
    }
   ],
   "source": [
    "n_ratings_per_item = X.getnnz(axis=0)\n",
    "\n",
    "print(f'Most rated item has {n_ratings_per_item.max()} ratings.')\n",
    "print(f'Least rated item has {n_ratings_per_item.min()} ratings.')"
   ]
  },
  {
   "cell_type": "code",
   "execution_count": 134,
   "metadata": {},
   "outputs": [
    {
     "data": {
      "image/png": "[encoded data removed]",
      "text/plain": [
       "<Figure size 1152x288 with 2 Axes>"
      ]
     },
     "metadata": {
      "needs_background": "light"
     },
     "output_type": "display_data"
    }
   ],
   "source": [
    "plt.figure(figsize=(16,4))\n",
    "plt.subplot(1,2,1)\n",
    "sns.kdeplot(n_ratings_per_user, shade=True)\n",
    "plt.xlim(0)\n",
    "plt.title('Number of Ratings Per User', fontsize=14)\n",
    "plt.xlabel('number of ratings per user')\n",
    "plt.ylabel('density')\n",
    "plt.subplot(1,2,2)\n",
    "sns.kdeplot(n_ratings_per_item, shade=True)\n",
    "plt.xlim(0)\n",
    "plt.title('Number of Ratings Per Item', fontsize=14)\n",
    "plt.xlabel('number of ratings per Item')\n",
    "plt.ylabel('density')\n",
    "plt.show()"
   ]
  },
  {
   "cell_type": "code",
   "execution_count": 135,
   "metadata": {},
   "outputs": [],
   "source": [
    "sum_ratings_per_item = X.sum(axis=0)\n",
    "mean_rating_per_item = sum_ratings_per_item/n_ratings_per_item"
   ]
  },
  {
   "cell_type": "code",
   "execution_count": 137,
   "metadata": {},
   "outputs": [],
   "source": [
    "X_mean_item = np.tile(mean_rating_per_item, (X.shape[0],1))"
   ]
  },
  {
   "cell_type": "code",
   "execution_count": 138,
   "metadata": {},
   "outputs": [
    {
     "data": {
      "text/plain": [
       "(33736, 5789)"
      ]
     },
     "execution_count": 138,
     "metadata": {},
     "output_type": "execute_result"
    }
   ],
   "source": [
    "X_mean_item.shape"
   ]
  },
  {
   "cell_type": "code",
   "execution_count": 139,
   "metadata": {},
   "outputs": [],
   "source": [
    "X_norm = X - csr_matrix(X_mean_item)"
   ]
  },
  {
   "cell_type": "code",
   "execution_count": 140,
   "metadata": {},
   "outputs": [
    {
     "name": "stdout",
     "output_type": "stream",
     "text": [
      "Original X: [[0. 0. 0. ... 0. 0. 0.]]\n",
      "Normalized X: [[-4.32510288 -4.71346154 -4.57798165 ... -4.75       -4.66666667\n",
      "  -4.5       ]]\n"
     ]
    }
   ],
   "source": [
    "print('Original X:', X[0].todense())\n",
    "print('Normalized X:', X_norm[0].todense())"
   ]
  },
  {
   "cell_type": "code",
   "execution_count": 141,
   "metadata": {},
   "outputs": [],
   "source": [
    "from sklearn.neighbors import NearestNeighbors\n",
    "\n",
    "def find_similar_items(item_id, X, item_mapper, item_inv_mapper, k, metric='cosine'):\n",
    "    '''\n",
    "    Finds k-nearest neighbours for a given item id.\n",
    "\n",
    "    Args:\n",
    "        item_id: id of the item of interest\n",
    "        X: user-item utility matrix\n",
    "        k: number of similar items to retrieve\n",
    "        metric: distance metric for kNN calculations\n",
    "\n",
    "    Output: returns list of k similar item ID's\n",
    "    '''\n",
    "    X = X.T\n",
    "    neighbour_ids = []\n",
    "\n",
    "    item_ind = item_mapper[item_id]\n",
    "    item_vec = X[item_ind]\n",
    "    if isinstance(item_vec, (np.ndarray)):\n",
    "        item_vec = item_vec.reshape(1,-1)\n",
    "    # use k+1 since kNN output includes the item_id of interest\n",
    "    kNN = NearestNeighbors(n_neighbors=k+1, algorithm='brute', metric=metric)\n",
    "    kNN.fit(X)\n",
    "    neighbour = kNN.kneighbors(item_vec, return_distance=False)\n",
    "    for i in range(0,k):\n",
    "        n = neighbour.item(i)\n",
    "        neighbour_ids.append(item_inv_mapper[n])\n",
    "    neighbour_ids.pop(0)\n",
    "    return neighbour_ids"
   ]
  },
  {
   "cell_type": "code",
   "execution_count": 147,
   "metadata": {
    "scrolled": true
   },
   "outputs": [
    {
     "data": {
      "text/plain": [
       "[1964998, 1862873, 849722, 2048890, 1781081, 931157, 1202098, 728996, 1512186]"
      ]
     },
     "execution_count": 147,
     "metadata": {},
     "output_type": "execute_result"
    }
   ],
   "source": [
    "similar_items = find_similar_items(2260466, X_norm, item_mapper, item_inv_mapper, k=10)\n",
    "similar_items"
   ]
  },
  {
   "cell_type": "markdown",
   "metadata": {},
   "source": [
    "### 3.1 Popularity Recommendation <a class='anchor' id='Method-1'></a>"
   ]
  },
  {
   "cell_type": "code",
   "execution_count": 42,
   "metadata": {},
   "outputs": [],
   "source": [
    "item_rating_data = item_data.groupby('item_id')[['rating_count', 'rating_average']].first().reset_index()"
   ]
  },
  {
   "cell_type": "markdown",
   "metadata": {},
   "source": [
    "#### Bayesian Average\n",
    "\n",
    "$$W = \\left(\\frac{v}{v + m} \\right)R + \\left(\\frac{m}{v + m} \\right)C$$\n",
    "where:\n",
    "\n",
    "$W$ = Weighted rating <br>\n",
    "$v$ = Number of ratings for the item <br>\n",
    "$m$ = Minimum number of ratings required to be listed on top chart <br>\n",
    "$R$ = Average rating of the item <br>\n",
    "$C$ = Mean rating across the entire data\n"
   ]
  },
  {
   "cell_type": "code",
   "execution_count": 43,
   "metadata": {},
   "outputs": [],
   "source": [
    "m = item_rating_data['rating_count'].quantile(0.9)\n",
    "C = item_rating_data['rating_average'].mean()\n",
    "\n",
    "def weighted_rating(x, m=m, C=C):\n",
    "    '''\n",
    "    Parameters:\n",
    "    ----------\n",
    "    Returns: \n",
    "    '''\n",
    "    v = x['rating_count']\n",
    "    R = x['rating_average']\n",
    "    \n",
    "    return (v/(v+m) * R) + (m/(m+v) * C)"
   ]
  },
  {
   "cell_type": "code",
   "execution_count": 44,
   "metadata": {},
   "outputs": [],
   "source": [
    "top_item_ratings = item_rating_data.loc[(item_rating_data['rating_count']>=m)]\n",
    "top_item_ratings['score'] = top_item_ratings.apply(weighted_rating, axis=1)"
   ]
  },
  {
   "cell_type": "code",
   "execution_count": 34,
   "metadata": {},
   "outputs": [
    {
     "data": {
      "text/html": [
       "<div>\n",
       "<style scoped>\n",
       "    .dataframe tbody tr th:only-of-type {\n",
       "        vertical-align: middle;\n",
       "    }\n",
       "\n",
       "    .dataframe tbody tr th {\n",
       "        vertical-align: top;\n",
       "    }\n",
       "\n",
       "    .dataframe thead th {\n",
       "        text-align: right;\n",
       "    }\n",
       "</style>\n",
       "<table border=\"1\" class=\"dataframe\">\n",
       "  <thead>\n",
       "    <tr style=\"text-align: right;\">\n",
       "      <th></th>\n",
       "      <th>item_id</th>\n",
       "      <th>rating</th>\n",
       "      <th>rating_count</th>\n",
       "      <th>rating_average</th>\n",
       "    </tr>\n",
       "  </thead>\n",
       "  <tbody>\n",
       "    <tr>\n",
       "      <th>0</th>\n",
       "      <td>123373</td>\n",
       "      <td>5.0</td>\n",
       "      <td>1</td>\n",
       "      <td>5.0</td>\n",
       "    </tr>\n",
       "    <tr>\n",
       "      <th>1</th>\n",
       "      <td>123793</td>\n",
       "      <td>5.0</td>\n",
       "      <td>1</td>\n",
       "      <td>5.0</td>\n",
       "    </tr>\n",
       "    <tr>\n",
       "      <th>2</th>\n",
       "      <td>124204</td>\n",
       "      <td>5.0</td>\n",
       "      <td>1</td>\n",
       "      <td>5.0</td>\n",
       "    </tr>\n",
       "    <tr>\n",
       "      <th>3</th>\n",
       "      <td>124553</td>\n",
       "      <td>5.0</td>\n",
       "      <td>1</td>\n",
       "      <td>5.0</td>\n",
       "    </tr>\n",
       "    <tr>\n",
       "      <th>4</th>\n",
       "      <td>125424</td>\n",
       "      <td>4.0</td>\n",
       "      <td>1</td>\n",
       "      <td>4.0</td>\n",
       "    </tr>\n",
       "    <tr>\n",
       "      <th>...</th>\n",
       "      <td>...</td>\n",
       "      <td>...</td>\n",
       "      <td>...</td>\n",
       "      <td>...</td>\n",
       "    </tr>\n",
       "    <tr>\n",
       "      <th>5845</th>\n",
       "      <td>2963850</td>\n",
       "      <td>5.0</td>\n",
       "      <td>1</td>\n",
       "      <td>5.0</td>\n",
       "    </tr>\n",
       "    <tr>\n",
       "      <th>5846</th>\n",
       "      <td>2964470</td>\n",
       "      <td>5.0</td>\n",
       "      <td>1</td>\n",
       "      <td>5.0</td>\n",
       "    </tr>\n",
       "    <tr>\n",
       "      <th>5847</th>\n",
       "      <td>2965009</td>\n",
       "      <td>5.0</td>\n",
       "      <td>1</td>\n",
       "      <td>5.0</td>\n",
       "    </tr>\n",
       "    <tr>\n",
       "      <th>5848</th>\n",
       "      <td>2965924</td>\n",
       "      <td>5.0</td>\n",
       "      <td>1</td>\n",
       "      <td>5.0</td>\n",
       "    </tr>\n",
       "    <tr>\n",
       "      <th>5849</th>\n",
       "      <td>2966087</td>\n",
       "      <td>5.0</td>\n",
       "      <td>1</td>\n",
       "      <td>5.0</td>\n",
       "    </tr>\n",
       "  </tbody>\n",
       "</table>\n",
       "<p>5850 rows × 4 columns</p>\n",
       "</div>"
      ],
      "text/plain": [
       "      item_id  rating  rating_count  rating_average\n",
       "0      123373     5.0             1             5.0\n",
       "1      123793     5.0             1             5.0\n",
       "2      124204     5.0             1             5.0\n",
       "3      124553     5.0             1             5.0\n",
       "4      125424     4.0             1             4.0\n",
       "...       ...     ...           ...             ...\n",
       "5845  2963850     5.0             1             5.0\n",
       "5846  2964470     5.0             1             5.0\n",
       "5847  2965009     5.0             1             5.0\n",
       "5848  2965924     5.0             1             5.0\n",
       "5849  2966087     5.0             1             5.0\n",
       "\n",
       "[5850 rows x 4 columns]"
      ]
     },
     "execution_count": 34,
     "metadata": {},
     "output_type": "execute_result"
    }
   ],
   "source": [
    "item_rating_data"
   ]
  },
  {
   "cell_type": "code",
   "execution_count": 45,
   "metadata": {
    "scrolled": true
   },
   "outputs": [
    {
     "data": {
      "text/html": [
       "<div>\n",
       "<style scoped>\n",
       "    .dataframe tbody tr th:only-of-type {\n",
       "        vertical-align: middle;\n",
       "    }\n",
       "\n",
       "    .dataframe tbody tr th {\n",
       "        vertical-align: top;\n",
       "    }\n",
       "\n",
       "    .dataframe thead th {\n",
       "        text-align: right;\n",
       "    }\n",
       "</style>\n",
       "<table border=\"1\" class=\"dataframe\">\n",
       "  <thead>\n",
       "    <tr style=\"text-align: right;\">\n",
       "      <th></th>\n",
       "      <th>item_id</th>\n",
       "      <th>rating_count</th>\n",
       "      <th>rating_average</th>\n",
       "      <th>score</th>\n",
       "    </tr>\n",
       "  </thead>\n",
       "  <tbody>\n",
       "    <tr>\n",
       "      <th>1948</th>\n",
       "      <td>1064397</td>\n",
       "      <td>284</td>\n",
       "      <td>4.890845</td>\n",
       "      <td>4.817643</td>\n",
       "    </tr>\n",
       "    <tr>\n",
       "      <th>1223</th>\n",
       "      <td>709832</td>\n",
       "      <td>190</td>\n",
       "      <td>4.863158</td>\n",
       "      <td>4.770215</td>\n",
       "    </tr>\n",
       "    <tr>\n",
       "      <th>2260</th>\n",
       "      <td>1213427</td>\n",
       "      <td>308</td>\n",
       "      <td>4.824675</td>\n",
       "      <td>4.767848</td>\n",
       "    </tr>\n",
       "    <tr>\n",
       "      <th>1608</th>\n",
       "      <td>903647</td>\n",
       "      <td>143</td>\n",
       "      <td>4.881119</td>\n",
       "      <td>4.761604</td>\n",
       "    </tr>\n",
       "    <tr>\n",
       "      <th>2599</th>\n",
       "      <td>1378631</td>\n",
       "      <td>330</td>\n",
       "      <td>4.812121</td>\n",
       "      <td>4.760543</td>\n",
       "    </tr>\n",
       "    <tr>\n",
       "      <th>1</th>\n",
       "      <td>123793</td>\n",
       "      <td>1714</td>\n",
       "      <td>4.768961</td>\n",
       "      <td>4.759087</td>\n",
       "    </tr>\n",
       "    <tr>\n",
       "      <th>1812</th>\n",
       "      <td>1003076</td>\n",
       "      <td>132</td>\n",
       "      <td>4.886364</td>\n",
       "      <td>4.758460</td>\n",
       "    </tr>\n",
       "    <tr>\n",
       "      <th>2201</th>\n",
       "      <td>1186923</td>\n",
       "      <td>103</td>\n",
       "      <td>4.922330</td>\n",
       "      <td>4.758433</td>\n",
       "    </tr>\n",
       "    <tr>\n",
       "      <th>2351</th>\n",
       "      <td>1260666</td>\n",
       "      <td>154</td>\n",
       "      <td>4.844156</td>\n",
       "      <td>4.741705</td>\n",
       "    </tr>\n",
       "    <tr>\n",
       "      <th>1236</th>\n",
       "      <td>714374</td>\n",
       "      <td>137</td>\n",
       "      <td>4.854015</td>\n",
       "      <td>4.739779</td>\n",
       "    </tr>\n",
       "  </tbody>\n",
       "</table>\n",
       "</div>"
      ],
      "text/plain": [
       "      item_id  rating_count  rating_average     score\n",
       "1948  1064397           284        4.890845  4.817643\n",
       "1223   709832           190        4.863158  4.770215\n",
       "2260  1213427           308        4.824675  4.767848\n",
       "1608   903647           143        4.881119  4.761604\n",
       "2599  1378631           330        4.812121  4.760543\n",
       "1      123793          1714        4.768961  4.759087\n",
       "1812  1003076           132        4.886364  4.758460\n",
       "2201  1186923           103        4.922330  4.758433\n",
       "2351  1260666           154        4.844156  4.741705\n",
       "1236   714374           137        4.854015  4.739779"
      ]
     },
     "execution_count": 45,
     "metadata": {},
     "output_type": "execute_result"
    }
   ],
   "source": [
    "top_item_ratings = top_item_ratings.sort_values('score', ascending=False)\n",
    "top_item_ratings.head(10)"
   ]
  },
  {
   "cell_type": "markdown",
   "metadata": {},
   "source": [
    "### 3.2 Content-Based Recommendation <a class='anchor' id='Method-2'></a>"
   ]
  },
  {
   "cell_type": "markdown",
   "metadata": {},
   "source": [
    "## ☒ Add code completed in [Colab notebook](https://colab.research.google.com/drive/1uvRulAgj-mUH1RnMUqrS3eYsWTIWUxK6?usp=sharing) and also here on [Github notebook](https://github.com/czarinagluna/Capstone-Proposal/blob/main/index.ipynb)"
   ]
  },
  {
   "cell_type": "markdown",
   "metadata": {},
   "source": [
    "### 3.3 Collaborative Filtering Recommendation <a class='anchor' id='Method-3'></a>"
   ]
  },
  {
   "cell_type": "markdown",
   "metadata": {},
   "source": [
    "## 4 Results and Recommendations <a class='anchor' id='Result'></a>"
   ]
  },
  {
   "cell_type": "markdown",
   "metadata": {},
   "source": [
    "## 5 Next Steps <a class='anchor' id='Next'></a>"
   ]
  },
  {
   "cell_type": "markdown",
   "metadata": {},
   "source": [
    "### 3.4 Predicting Ratings <a class='anchor' id='Model'></a>"
   ]
  }
 ],
 "metadata": {
  "kernelspec": {
   "display_name": "Python (learn-env)",
   "language": "python",
   "name": "learn-env"
  },
  "language_info": {
   "codemirror_mode": {
    "name": "ipython",
    "version": 3
   },
   "file_extension": ".py",
   "mimetype": "text/x-python",
   "name": "python",
   "nbconvert_exporter": "python",
   "pygments_lexer": "ipython3",
   "version": "3.8.5"
  },
  "varInspector": {
   "cols": {
    "lenName": 16,
    "lenType": 16,
    "lenVar": 40
   },
   "kernels_config": {
    "python": {
     "delete_cmd_postfix": "",
     "delete_cmd_prefix": "del ",
     "library": "var_list.py",
     "varRefreshCmd": "print(var_dic_list())"
    },
    "r": {
     "delete_cmd_postfix": ") ",
     "delete_cmd_prefix": "rm(",
     "library": "var_list.r",
     "varRefreshCmd": "cat(var_dic_list()) "
    }
   },
   "types_to_exclude": [
    "module",
    "function",
    "builtin_function_or_method",
    "instance",
    "_Feature"
   ],
   "window_display": false
  }
 },
 "nbformat": 4,
 "nbformat_minor": 4
}
